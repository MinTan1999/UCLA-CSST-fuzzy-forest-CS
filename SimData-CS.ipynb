{
 "cells": [
  {
   "cell_type": "code",
   "execution_count": 3,
   "metadata": {},
   "outputs": [],
   "source": [
    "library(MASS)"
   ]
  },
  {
   "cell_type": "markdown",
   "metadata": {},
   "source": [
    "# Create data X and label y"
   ]
  },
  {
   "cell_type": "markdown",
   "metadata": {},
   "source": [
    "The data set X: please read simulation_AR (pdf file) on how the construction of X.\n",
    "X (T*p) satisfies the following:\n",
    "* Each row of X has covariance matrix cov_feature, which has three block matrix and an identity matrix on the diagnal.\n",
    "* Each column of X has the same longitudinal covariance structure (AR).\n",
    "\n",
    "The label y: suppose there are 100*4 features, denoted by $X^{(1)},X^{(2)},...,X^{(400)}$.\n",
    "Our model is $$y_{t} = 5X^{(1)}_{t}+2X^{(2)}_{t}+2X^{(3)}_{t}+5X^{(2)}_{t}X^{(3)}_{t}\n",
    "+5X_{t}^{(301)}+2X^{(302)}_{t}+2X^{(303)}_{t}+5X^{(302)}_{t}X^{(303)}_{t}\n",
    "+\\epsilon_{t}$$ where $\\epsilon_{t}\\stackrel{}{\\sim} N(0,\\alpha I)$. $\\alpha$ is the noise level (in the code, it is called var_noise)\n",
    "\n",
    "Therefore, the expected results of feature selection are:\n",
    "* The module 1 and 4 are chosen\n",
    "* The feature 1,2,3,301,302,303 are chosen"
   ]
  },
  {
   "cell_type": "code",
   "execution_count": 51,
   "metadata": {},
   "outputs": [],
   "source": [
    "# p features and T oberservations\n",
    "# p= 4*p0 : the first 3 p0 features are 3 modules, independent bewteen modules and\n",
    "# correlated (cov=0.8) within each. The last module is independent within and with the \n",
    "# first three\n",
    "\n",
    "# return a T*(p+1) matrix\n",
    "Data_CS =function(T,var_noise) {\n",
    "    p0 = 100\n",
    "    p = 4*p0\n",
    "    \n",
    "    #### covariance matrix between features: it is either 0 (independent) or 0.8 ####\n",
    "    cov_feature = matrix(0,nrow = p, ncol = p)\n",
    "    # cov within the first three modules\n",
    "    cov_star = matrix(0.8,nrow = p0,ncol = p0)\n",
    "    diag(cov_star)=1\n",
    "    # put cov_star into cov_feature\n",
    "    cov_feature[1:p0,1:p0] = cov_star\n",
    "    cov_feature[(p0+1):(2*p0),(p0+1):(2*p0)] = cov_star\n",
    "    cov_feature[(2*p0+1):(3*p0),(2*p0+1):(3*p0)] = cov_star\n",
    "    cov_feature[(3*p0+1):(4*p0),(3*p0+1):(4*p0)] = diag(p0)\n",
    "    ####\n",
    "    \n",
    "    #### simulating data ####\n",
    "    # T*p Data matrix, pre-allocate memory\n",
    "    X_data = matrix(0,nrow = T,ncol = p)\n",
    "    # generate gamma \n",
    "    gamma = mvrnorm(n=1,rep(0,p),cov_feature)\n",
    "    #generate each row\n",
    "    for (i in 1:T){\n",
    "        X_data[i,] = 0.8*gamma+0.6*mvrnorm(n=1,rep(0,p),cov_feature)\n",
    "        }\n",
    "    ###\n",
    "    \n",
    "    ### create labels ###\n",
    "    # create a n vector for labels\n",
    "    y = matrix(data=0,nrow = T)\n",
    "    # build y according to our model\n",
    "    y = (5*X_data[,1]+2*X_data[,2]+2*X_data[,3]+5*X_data[,2]*X_data[,3]\n",
    "         +5*X_data[,301]+2*X_data[,302]+2*X_data[,303]+5*X_data[,302]*X_data[,303]\n",
    "         +mvrnorm(n = 1, rep(0, T), diag(x=var_noise,T)))\n",
    "    ###\n",
    "    \n",
    "    return (cbind(X_data,y))\n",
    "\n",
    "}"
   ]
  },
  {
   "cell_type": "code",
   "execution_count": 59,
   "metadata": {
    "scrolled": false
   },
   "outputs": [
    {
     "data": {
      "text/html": [
       "<table>\n",
       "<thead><tr><th scope=col></th><th scope=col></th><th scope=col></th><th scope=col></th><th scope=col></th><th scope=col></th><th scope=col></th><th scope=col></th><th scope=col></th><th scope=col></th><th scope=col>...</th><th scope=col></th><th scope=col></th><th scope=col></th><th scope=col></th><th scope=col></th><th scope=col></th><th scope=col></th><th scope=col></th><th scope=col></th><th scope=col>y</th></tr></thead>\n",
       "<tbody>\n",
       "\t<tr><td> 1.7407866 </td><td> 0.7165797 </td><td> 1.3688117 </td><td> 1.0314631 </td><td> 1.3876805 </td><td> 1.4874913 </td><td> 1.6287665 </td><td> 1.5960559 </td><td> 1.8400291 </td><td> 0.4229733 </td><td>...        </td><td>-0.5573129 </td><td>0.9554073  </td><td>2.754275   </td><td> 0.06523443</td><td> 0.81441678</td><td>-0.9149480 </td><td>-2.345674  </td><td> 1.30168895</td><td>1.2937165  </td><td>20.227139  </td></tr>\n",
       "\t<tr><td> 1.5324829 </td><td> 1.0467967 </td><td> 1.6236058 </td><td> 0.8724605 </td><td> 1.2173783 </td><td> 1.3320388 </td><td> 2.0153044 </td><td> 1.6049079 </td><td> 1.5313411 </td><td> 0.9952753 </td><td>...        </td><td>-0.5569945 </td><td>1.3555163  </td><td>1.646501   </td><td> 0.70833466</td><td> 0.08101691</td><td>-0.4351898 </td><td>-1.912799  </td><td> 0.02901912</td><td>0.4661387  </td><td>17.033645  </td></tr>\n",
       "\t<tr><td> 1.5093328 </td><td> 0.6792006 </td><td> 1.3579350 </td><td> 0.4884840 </td><td> 1.1224566 </td><td> 1.6851864 </td><td> 1.2960038 </td><td> 0.9839399 </td><td> 1.6907128 </td><td> 1.2139573 </td><td>...        </td><td>-0.2602909 </td><td>0.7786797  </td><td>2.246425   </td><td>-0.27743072</td><td>-0.02982492</td><td>-0.1044265 </td><td>-2.615714  </td><td> 0.78831001</td><td>1.0831711  </td><td> 8.790030  </td></tr>\n",
       "\t<tr><td>-0.3041881 </td><td>-1.9530938 </td><td>-1.1427849 </td><td>-1.2343919 </td><td>-1.3680662 </td><td>-0.8568481 </td><td>-1.0319428 </td><td>-0.6757070 </td><td>-0.8279082 </td><td>-1.3904139 </td><td>...        </td><td>-0.2005170 </td><td>0.8967164  </td><td>1.759592   </td><td> 0.09423212</td><td>-0.47172281</td><td>-0.9600292 </td><td>-0.966871  </td><td>-0.16834060</td><td>0.9950211  </td><td>-7.015299  </td></tr>\n",
       "\t<tr><td> 0.5991773 </td><td>-0.1840922 </td><td> 0.4274708 </td><td>-0.2199940 </td><td> 0.4973094 </td><td> 0.3406958 </td><td> 0.3146909 </td><td> 0.9434247 </td><td> 0.8198816 </td><td> 0.3843253 </td><td>...        </td><td>-1.4968179 </td><td>0.1176065  </td><td>1.418490   </td><td> 0.09473808</td><td>-0.06373402</td><td>-1.1522195 </td><td>-1.593592  </td><td> 0.62712616</td><td>0.8365169  </td><td>-4.308122  </td></tr>\n",
       "</tbody>\n",
       "</table>\n"
      ],
      "text/latex": [
       "\\begin{tabular}{lllllllllllllllllllllllllllllllllllllllllllllllllllllllllllllllllllllllllllllllllllllllllllllllllllllllllllllllllllllllllllllllllllllllllllllllllllllllllllllllllllllllllllllllllllllllllllllllllllllllllllllllllllllllllllllllllllllllllllllllllllllllllllllllllllllllllllllllllllllllllllllllllllllllllllllllllllllllllllllllllllllllllllllllllllllllllllllllllllllllllllllllllllllllllllllllllllllllllllllllll}\n",
       "  &  &  &  &  &  &  &  &  &  & ... &  &  &  &  &  &  &  &  &  & y\\\\\n",
       "\\hline\n",
       "\t  1.7407866  &  0.7165797  &  1.3688117  &  1.0314631  &  1.3876805  &  1.4874913  &  1.6287665  &  1.5960559  &  1.8400291  &  0.4229733  & ...         & -0.5573129  & 0.9554073   & 2.754275    &  0.06523443 &  0.81441678 & -0.9149480  & -2.345674   &  1.30168895 & 1.2937165   & 20.227139  \\\\\n",
       "\t  1.5324829  &  1.0467967  &  1.6236058  &  0.8724605  &  1.2173783  &  1.3320388  &  2.0153044  &  1.6049079  &  1.5313411  &  0.9952753  & ...         & -0.5569945  & 1.3555163   & 1.646501    &  0.70833466 &  0.08101691 & -0.4351898  & -1.912799   &  0.02901912 & 0.4661387   & 17.033645  \\\\\n",
       "\t  1.5093328  &  0.6792006  &  1.3579350  &  0.4884840  &  1.1224566  &  1.6851864  &  1.2960038  &  0.9839399  &  1.6907128  &  1.2139573  & ...         & -0.2602909  & 0.7786797   & 2.246425    & -0.27743072 & -0.02982492 & -0.1044265  & -2.615714   &  0.78831001 & 1.0831711   &  8.790030  \\\\\n",
       "\t -0.3041881  & -1.9530938  & -1.1427849  & -1.2343919  & -1.3680662  & -0.8568481  & -1.0319428  & -0.6757070  & -0.8279082  & -1.3904139  & ...         & -0.2005170  & 0.8967164   & 1.759592    &  0.09423212 & -0.47172281 & -0.9600292  & -0.966871   & -0.16834060 & 0.9950211   & -7.015299  \\\\\n",
       "\t  0.5991773  & -0.1840922  &  0.4274708  & -0.2199940  &  0.4973094  &  0.3406958  &  0.3146909  &  0.9434247  &  0.8198816  &  0.3843253  & ...         & -1.4968179  & 0.1176065   & 1.418490    &  0.09473808 & -0.06373402 & -1.1522195  & -1.593592   &  0.62712616 & 0.8365169   & -4.308122  \\\\\n",
       "\\end{tabular}\n"
      ],
      "text/markdown": [
       "\n",
       "|  |  |  |  |  |  |  |  |  |  | ... |  |  |  |  |  |  |  |  |  | y |\n",
       "|---|---|---|---|---|---|---|---|---|---|---|---|---|---|---|---|---|---|---|---|---|\n",
       "|  1.7407866  |  0.7165797  |  1.3688117  |  1.0314631  |  1.3876805  |  1.4874913  |  1.6287665  |  1.5960559  |  1.8400291  |  0.4229733  | ...         | -0.5573129  | 0.9554073   | 2.754275    |  0.06523443 |  0.81441678 | -0.9149480  | -2.345674   |  1.30168895 | 1.2937165   | 20.227139   |\n",
       "|  1.5324829  |  1.0467967  |  1.6236058  |  0.8724605  |  1.2173783  |  1.3320388  |  2.0153044  |  1.6049079  |  1.5313411  |  0.9952753  | ...         | -0.5569945  | 1.3555163   | 1.646501    |  0.70833466 |  0.08101691 | -0.4351898  | -1.912799   |  0.02901912 | 0.4661387   | 17.033645   |\n",
       "|  1.5093328  |  0.6792006  |  1.3579350  |  0.4884840  |  1.1224566  |  1.6851864  |  1.2960038  |  0.9839399  |  1.6907128  |  1.2139573  | ...         | -0.2602909  | 0.7786797   | 2.246425    | -0.27743072 | -0.02982492 | -0.1044265  | -2.615714   |  0.78831001 | 1.0831711   |  8.790030   |\n",
       "| -0.3041881  | -1.9530938  | -1.1427849  | -1.2343919  | -1.3680662  | -0.8568481  | -1.0319428  | -0.6757070  | -0.8279082  | -1.3904139  | ...         | -0.2005170  | 0.8967164   | 1.759592    |  0.09423212 | -0.47172281 | -0.9600292  | -0.966871   | -0.16834060 | 0.9950211   | -7.015299   |\n",
       "|  0.5991773  | -0.1840922  |  0.4274708  | -0.2199940  |  0.4973094  |  0.3406958  |  0.3146909  |  0.9434247  |  0.8198816  |  0.3843253  | ...         | -1.4968179  | 0.1176065   | 1.418490    |  0.09473808 | -0.06373402 | -1.1522195  | -1.593592   |  0.62712616 | 0.8365169   | -4.308122   |\n",
       "\n"
      ],
      "text/plain": [
       "                                                                      \n",
       "[1,]  1.7407866  0.7165797  1.3688117  1.0314631  1.3876805  1.4874913\n",
       "[2,]  1.5324829  1.0467967  1.6236058  0.8724605  1.2173783  1.3320388\n",
       "[3,]  1.5093328  0.6792006  1.3579350  0.4884840  1.1224566  1.6851864\n",
       "[4,] -0.3041881 -1.9530938 -1.1427849 -1.2343919 -1.3680662 -0.8568481\n",
       "[5,]  0.5991773 -0.1840922  0.4274708 -0.2199940  0.4973094  0.3406958\n",
       "                                                 ...                     \n",
       "[1,]  1.6287665  1.5960559  1.8400291  0.4229733 ... -0.5573129 0.9554073\n",
       "[2,]  2.0153044  1.6049079  1.5313411  0.9952753 ... -0.5569945 1.3555163\n",
       "[3,]  1.2960038  0.9839399  1.6907128  1.2139573 ... -0.2602909 0.7786797\n",
       "[4,] -1.0319428 -0.6757070 -0.8279082 -1.3904139 ... -0.2005170 0.8967164\n",
       "[5,]  0.3146909  0.9434247  0.8198816  0.3843253 ... -1.4968179 0.1176065\n",
       "                                                                      \n",
       "[1,] 2.754275  0.06523443  0.81441678 -0.9149480 -2.345674  1.30168895\n",
       "[2,] 1.646501  0.70833466  0.08101691 -0.4351898 -1.912799  0.02901912\n",
       "[3,] 2.246425 -0.27743072 -0.02982492 -0.1044265 -2.615714  0.78831001\n",
       "[4,] 1.759592  0.09423212 -0.47172281 -0.9600292 -0.966871 -0.16834060\n",
       "[5,] 1.418490  0.09473808 -0.06373402 -1.1522195 -1.593592  0.62712616\n",
       "               y        \n",
       "[1,] 1.2937165 20.227139\n",
       "[2,] 0.4661387 17.033645\n",
       "[3,] 1.0831711  8.790030\n",
       "[4,] 0.9950211 -7.015299\n",
       "[5,] 0.8365169 -4.308122"
      ]
     },
     "metadata": {},
     "output_type": "display_data"
    }
   ],
   "source": [
    "set.seed(0)\n",
    "Data_CS(T=5,var_noise = 0.3)"
   ]
  },
  {
   "cell_type": "code",
   "execution_count": null,
   "metadata": {},
   "outputs": [],
   "source": []
  }
 ],
 "metadata": {
  "kernelspec": {
   "display_name": "R",
   "language": "R",
   "name": "ir"
  },
  "language_info": {
   "codemirror_mode": "r",
   "file_extension": ".r",
   "mimetype": "text/x-r-source",
   "name": "R",
   "pygments_lexer": "r",
   "version": "3.6.0"
  }
 },
 "nbformat": 4,
 "nbformat_minor": 2
}
